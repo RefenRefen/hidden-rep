{
  "nbformat": 4,
  "nbformat_minor": 0,
  "metadata": {
    "colab": {
      "provenance": [],
      "mount_file_id": "1vypVP3dTSmbwVgd0VUtKFXe7gYJb0fXn",
      "authorship_tag": "ABX9TyPqeodZcvkhKagRcyR93zhO",
      "include_colab_link": true
    },
    "kernelspec": {
      "name": "python3",
      "display_name": "Python 3"
    },
    "language_info": {
      "name": "python"
    }
  },
  "cells": [
    {
      "cell_type": "markdown",
      "metadata": {
        "id": "view-in-github",
        "colab_type": "text"
      },
      "source": [
        "<a href=\"https://colab.research.google.com/github/RefenRefen/hidden-rep/blob/main/code.ipynb\" target=\"_parent\"><img src=\"https://colab.research.google.com/assets/colab-badge.svg\" alt=\"Open In Colab\"/></a>"
      ]
    },
    {
      "cell_type": "markdown",
      "source": [
        "# Imports"
      ],
      "metadata": {
        "id": "q8FSuvdgWG7p"
      }
    },
    {
      "cell_type": "code",
      "execution_count": 2,
      "metadata": {
        "id": "-mC-jX7HV3DA"
      },
      "outputs": [],
      "source": [
        "import numpy as np\n",
        "import pandas as pd\n",
        "import tensorflow as tf\n",
        "import tensorflow_probability as tfp\n",
        "import matplotlib.pyplot as plt\n",
        "\n",
        "import pickle\n",
        "\n",
        "from tensorflow.keras.layers import Dense, LSTM, RepeatVector, TimeDistributed, Input, Dropout\n",
        "from tensorflow.keras.callbacks import Callback, ModelCheckpoint, EarlyStopping\n",
        "from tensorflow.keras.losses import MeanSquaredError\n",
        "from tensorflow.keras.optimizers import RMSprop, Adam\n",
        "from tensorflow.keras.models import Sequential, Model\n",
        "import tensorflow_probability as tfp\n",
        "import matplotlib.pyplot as plt\n",
        "from tqdm.notebook import tqdm\n",
        "from numpy import array\n",
        "import tensorflow as tf\n",
        "import numpy as np\n",
        "from sklearn.preprocessing import MinMaxScaler\n",
        "\n",
        "tfd = tfp.distributions\n",
        "tfpl = tfp.layers"
      ]
    },
    {
      "cell_type": "markdown",
      "source": [
        "# Loading Data"
      ],
      "metadata": {
        "id": "EF-ZLI2VWJa6"
      }
    },
    {
      "cell_type": "code",
      "source": [
        "# df = pd.read_csv('https://query.data.world/s/acygrvxfgqb76o7mqo4igj4gzahxbw?dws=00000')\n",
        "# df.to_csv('./drive/MyDrive/Colab Notebooks/Foad/courses/Probabilistic Learning/project/data/airlinedelaycauses_DelayedFlights.csv')"
      ],
      "metadata": {
        "id": "chWOVcBcWEFc"
      },
      "execution_count": 3,
      "outputs": []
    },
    {
      "cell_type": "code",
      "source": [
        "# df.head()"
      ],
      "metadata": {
        "id": "RIcEdGDqYFQu"
      },
      "execution_count": 4,
      "outputs": []
    },
    {
      "cell_type": "code",
      "source": [
        "# !pwd"
      ],
      "metadata": {
        "id": "qlMIUo-VaKuF"
      },
      "execution_count": 5,
      "outputs": []
    },
    {
      "cell_type": "code",
      "source": [
        "df = pd.read_csv('./drive/MyDrive/Colab Notebooks/Foad/courses/Probabilistic Learning/project/data/airlinedelaycauses_DelayedFlights.csv')"
      ],
      "metadata": {
        "id": "8D8NnDnPayYw"
      },
      "execution_count": 6,
      "outputs": []
    },
    {
      "cell_type": "code",
      "source": [
        "df.columns"
      ],
      "metadata": {
        "colab": {
          "base_uri": "https://localhost:8080/"
        },
        "id": "HIZZZpDFdZ2g",
        "outputId": "bde7f901-bd0a-4063-cc2d-b94284b454c6"
      },
      "execution_count": 7,
      "outputs": [
        {
          "output_type": "execute_result",
          "data": {
            "text/plain": [
              "Index(['Unnamed: 0.1', 'Unnamed: 0', 'Year', 'Month', 'DayofMonth',\n",
              "       'DayOfWeek', 'DepTime', 'CRSDepTime', 'ArrTime', 'CRSArrTime',\n",
              "       'UniqueCarrier', 'FlightNum', 'TailNum', 'ActualElapsedTime',\n",
              "       'CRSElapsedTime', 'AirTime', 'ArrDelay', 'DepDelay', 'Origin', 'Dest',\n",
              "       'Distance', 'TaxiIn', 'TaxiOut', 'Cancelled', 'CancellationCode',\n",
              "       'Diverted', 'CarrierDelay', 'WeatherDelay', 'NASDelay', 'SecurityDelay',\n",
              "       'LateAircraftDelay'],\n",
              "      dtype='object')"
            ]
          },
          "metadata": {},
          "execution_count": 7
        }
      ]
    },
    {
      "cell_type": "code",
      "source": [
        "df = df.drop(['Unnamed: 0.1', 'Unnamed: 0'], axis=1)"
      ],
      "metadata": {
        "id": "fTYYQGCZdiV7"
      },
      "execution_count": 8,
      "outputs": []
    },
    {
      "cell_type": "code",
      "source": [
        "df.sort_values(by=['Month', 'DayofMonth', 'DayOfWeek', 'DepTime'], inplace=True)\n",
        "df.reset_index(inplace=True, drop=True)"
      ],
      "metadata": {
        "id": "be0L_SfwtnHW"
      },
      "execution_count": 9,
      "outputs": []
    },
    {
      "cell_type": "code",
      "source": [
        "df"
      ],
      "metadata": {
        "colab": {
          "base_uri": "https://localhost:8080/",
          "height": 444
        },
        "id": "9VOGIMZPeGxM",
        "outputId": "301d9e80-49db-4952-dab6-d7c710f9163d"
      },
      "execution_count": 10,
      "outputs": [
        {
          "output_type": "execute_result",
          "data": {
            "text/plain": [
              "         Year  Month  DayofMonth  DayOfWeek  DepTime  CRSDepTime  ArrTime  \\\n",
              "0        2008      1           1          2      1.0        1950    228.0   \n",
              "1        2008      1           1          2      1.0        2135    117.0   \n",
              "2        2008      1           1          2      2.0        2355    529.0   \n",
              "3        2008      1           1          2      2.0        2255     57.0   \n",
              "4        2008      1           1          2      2.0        2355    836.0   \n",
              "...       ...    ...         ...        ...      ...         ...      ...   \n",
              "1936753  2008     12          31          3   2347.0        2325   1005.0   \n",
              "1936754  2008     12          31          3   2350.0        2336    737.0   \n",
              "1936755  2008     12          31          3   2355.0        2315    645.0   \n",
              "1936756  2008     12          31          3   2356.0        1925    253.0   \n",
              "1936757  2008     12          31          3   2358.0        2230    101.0   \n",
              "\n",
              "         CRSArrTime UniqueCarrier  FlightNum  ... TaxiIn  TaxiOut  Cancelled  \\\n",
              "0              2235            WN        106  ...    3.0      7.0          0   \n",
              "1              2300            WN       3558  ...    5.0      9.0          0   \n",
              "2               532            F9        380  ...    7.0      8.0          0   \n",
              "3              2357            FL        579  ...    8.0      9.0          0   \n",
              "4               755            B6        166  ...    8.0     34.0          0   \n",
              "...             ...           ...        ...  ...    ...      ...        ...   \n",
              "1936753         950            AA        254  ...    6.0     16.0          0   \n",
              "1936754         705            UA         86  ...   10.0     20.0          0   \n",
              "1936755         621            DL        952  ...    5.0     11.0          0   \n",
              "1936756        2234            NW        245  ...    8.0     15.0          0   \n",
              "1936757        2344            US       1002  ...    3.0     14.0          0   \n",
              "\n",
              "         CancellationCode  Diverted  CarrierDelay WeatherDelay NASDelay  \\\n",
              "0                       N         0         151.0          0.0      0.0   \n",
              "1                       N         0          51.0          0.0      0.0   \n",
              "2                       N         0           NaN          NaN      NaN   \n",
              "3                       N         0           0.0          0.0      0.0   \n",
              "4                       N         0           7.0          0.0     34.0   \n",
              "...                   ...       ...           ...          ...      ...   \n",
              "1936753                 N         0          15.0          0.0      0.0   \n",
              "1936754                 N         0           0.0          0.0     32.0   \n",
              "1936755                 N         0          24.0          0.0      0.0   \n",
              "1936756                 N         0         259.0          0.0      0.0   \n",
              "1936757                 N         0           0.0          0.0      0.0   \n",
              "\n",
              "         SecurityDelay  LateAircraftDelay  \n",
              "0                  0.0               82.0  \n",
              "1                  0.0               86.0  \n",
              "2                  NaN                NaN  \n",
              "3                  0.0               60.0  \n",
              "4                  0.0                0.0  \n",
              "...                ...                ...  \n",
              "1936753            0.0                0.0  \n",
              "1936754            0.0                0.0  \n",
              "1936755            0.0                0.0  \n",
              "1936756            0.0                0.0  \n",
              "1936757            0.0               77.0  \n",
              "\n",
              "[1936758 rows x 29 columns]"
            ],
            "text/html": [
              "\n",
              "  <div id=\"df-1a631d94-67d2-413b-bb53-003bcd08bb8f\" class=\"colab-df-container\">\n",
              "    <div>\n",
              "<style scoped>\n",
              "    .dataframe tbody tr th:only-of-type {\n",
              "        vertical-align: middle;\n",
              "    }\n",
              "\n",
              "    .dataframe tbody tr th {\n",
              "        vertical-align: top;\n",
              "    }\n",
              "\n",
              "    .dataframe thead th {\n",
              "        text-align: right;\n",
              "    }\n",
              "</style>\n",
              "<table border=\"1\" class=\"dataframe\">\n",
              "  <thead>\n",
              "    <tr style=\"text-align: right;\">\n",
              "      <th></th>\n",
              "      <th>Year</th>\n",
              "      <th>Month</th>\n",
              "      <th>DayofMonth</th>\n",
              "      <th>DayOfWeek</th>\n",
              "      <th>DepTime</th>\n",
              "      <th>CRSDepTime</th>\n",
              "      <th>ArrTime</th>\n",
              "      <th>CRSArrTime</th>\n",
              "      <th>UniqueCarrier</th>\n",
              "      <th>FlightNum</th>\n",
              "      <th>...</th>\n",
              "      <th>TaxiIn</th>\n",
              "      <th>TaxiOut</th>\n",
              "      <th>Cancelled</th>\n",
              "      <th>CancellationCode</th>\n",
              "      <th>Diverted</th>\n",
              "      <th>CarrierDelay</th>\n",
              "      <th>WeatherDelay</th>\n",
              "      <th>NASDelay</th>\n",
              "      <th>SecurityDelay</th>\n",
              "      <th>LateAircraftDelay</th>\n",
              "    </tr>\n",
              "  </thead>\n",
              "  <tbody>\n",
              "    <tr>\n",
              "      <th>0</th>\n",
              "      <td>2008</td>\n",
              "      <td>1</td>\n",
              "      <td>1</td>\n",
              "      <td>2</td>\n",
              "      <td>1.0</td>\n",
              "      <td>1950</td>\n",
              "      <td>228.0</td>\n",
              "      <td>2235</td>\n",
              "      <td>WN</td>\n",
              "      <td>106</td>\n",
              "      <td>...</td>\n",
              "      <td>3.0</td>\n",
              "      <td>7.0</td>\n",
              "      <td>0</td>\n",
              "      <td>N</td>\n",
              "      <td>0</td>\n",
              "      <td>151.0</td>\n",
              "      <td>0.0</td>\n",
              "      <td>0.0</td>\n",
              "      <td>0.0</td>\n",
              "      <td>82.0</td>\n",
              "    </tr>\n",
              "    <tr>\n",
              "      <th>1</th>\n",
              "      <td>2008</td>\n",
              "      <td>1</td>\n",
              "      <td>1</td>\n",
              "      <td>2</td>\n",
              "      <td>1.0</td>\n",
              "      <td>2135</td>\n",
              "      <td>117.0</td>\n",
              "      <td>2300</td>\n",
              "      <td>WN</td>\n",
              "      <td>3558</td>\n",
              "      <td>...</td>\n",
              "      <td>5.0</td>\n",
              "      <td>9.0</td>\n",
              "      <td>0</td>\n",
              "      <td>N</td>\n",
              "      <td>0</td>\n",
              "      <td>51.0</td>\n",
              "      <td>0.0</td>\n",
              "      <td>0.0</td>\n",
              "      <td>0.0</td>\n",
              "      <td>86.0</td>\n",
              "    </tr>\n",
              "    <tr>\n",
              "      <th>2</th>\n",
              "      <td>2008</td>\n",
              "      <td>1</td>\n",
              "      <td>1</td>\n",
              "      <td>2</td>\n",
              "      <td>2.0</td>\n",
              "      <td>2355</td>\n",
              "      <td>529.0</td>\n",
              "      <td>532</td>\n",
              "      <td>F9</td>\n",
              "      <td>380</td>\n",
              "      <td>...</td>\n",
              "      <td>7.0</td>\n",
              "      <td>8.0</td>\n",
              "      <td>0</td>\n",
              "      <td>N</td>\n",
              "      <td>0</td>\n",
              "      <td>NaN</td>\n",
              "      <td>NaN</td>\n",
              "      <td>NaN</td>\n",
              "      <td>NaN</td>\n",
              "      <td>NaN</td>\n",
              "    </tr>\n",
              "    <tr>\n",
              "      <th>3</th>\n",
              "      <td>2008</td>\n",
              "      <td>1</td>\n",
              "      <td>1</td>\n",
              "      <td>2</td>\n",
              "      <td>2.0</td>\n",
              "      <td>2255</td>\n",
              "      <td>57.0</td>\n",
              "      <td>2357</td>\n",
              "      <td>FL</td>\n",
              "      <td>579</td>\n",
              "      <td>...</td>\n",
              "      <td>8.0</td>\n",
              "      <td>9.0</td>\n",
              "      <td>0</td>\n",
              "      <td>N</td>\n",
              "      <td>0</td>\n",
              "      <td>0.0</td>\n",
              "      <td>0.0</td>\n",
              "      <td>0.0</td>\n",
              "      <td>0.0</td>\n",
              "      <td>60.0</td>\n",
              "    </tr>\n",
              "    <tr>\n",
              "      <th>4</th>\n",
              "      <td>2008</td>\n",
              "      <td>1</td>\n",
              "      <td>1</td>\n",
              "      <td>2</td>\n",
              "      <td>2.0</td>\n",
              "      <td>2355</td>\n",
              "      <td>836.0</td>\n",
              "      <td>755</td>\n",
              "      <td>B6</td>\n",
              "      <td>166</td>\n",
              "      <td>...</td>\n",
              "      <td>8.0</td>\n",
              "      <td>34.0</td>\n",
              "      <td>0</td>\n",
              "      <td>N</td>\n",
              "      <td>0</td>\n",
              "      <td>7.0</td>\n",
              "      <td>0.0</td>\n",
              "      <td>34.0</td>\n",
              "      <td>0.0</td>\n",
              "      <td>0.0</td>\n",
              "    </tr>\n",
              "    <tr>\n",
              "      <th>...</th>\n",
              "      <td>...</td>\n",
              "      <td>...</td>\n",
              "      <td>...</td>\n",
              "      <td>...</td>\n",
              "      <td>...</td>\n",
              "      <td>...</td>\n",
              "      <td>...</td>\n",
              "      <td>...</td>\n",
              "      <td>...</td>\n",
              "      <td>...</td>\n",
              "      <td>...</td>\n",
              "      <td>...</td>\n",
              "      <td>...</td>\n",
              "      <td>...</td>\n",
              "      <td>...</td>\n",
              "      <td>...</td>\n",
              "      <td>...</td>\n",
              "      <td>...</td>\n",
              "      <td>...</td>\n",
              "      <td>...</td>\n",
              "      <td>...</td>\n",
              "    </tr>\n",
              "    <tr>\n",
              "      <th>1936753</th>\n",
              "      <td>2008</td>\n",
              "      <td>12</td>\n",
              "      <td>31</td>\n",
              "      <td>3</td>\n",
              "      <td>2347.0</td>\n",
              "      <td>2325</td>\n",
              "      <td>1005.0</td>\n",
              "      <td>950</td>\n",
              "      <td>AA</td>\n",
              "      <td>254</td>\n",
              "      <td>...</td>\n",
              "      <td>6.0</td>\n",
              "      <td>16.0</td>\n",
              "      <td>0</td>\n",
              "      <td>N</td>\n",
              "      <td>0</td>\n",
              "      <td>15.0</td>\n",
              "      <td>0.0</td>\n",
              "      <td>0.0</td>\n",
              "      <td>0.0</td>\n",
              "      <td>0.0</td>\n",
              "    </tr>\n",
              "    <tr>\n",
              "      <th>1936754</th>\n",
              "      <td>2008</td>\n",
              "      <td>12</td>\n",
              "      <td>31</td>\n",
              "      <td>3</td>\n",
              "      <td>2350.0</td>\n",
              "      <td>2336</td>\n",
              "      <td>737.0</td>\n",
              "      <td>705</td>\n",
              "      <td>UA</td>\n",
              "      <td>86</td>\n",
              "      <td>...</td>\n",
              "      <td>10.0</td>\n",
              "      <td>20.0</td>\n",
              "      <td>0</td>\n",
              "      <td>N</td>\n",
              "      <td>0</td>\n",
              "      <td>0.0</td>\n",
              "      <td>0.0</td>\n",
              "      <td>32.0</td>\n",
              "      <td>0.0</td>\n",
              "      <td>0.0</td>\n",
              "    </tr>\n",
              "    <tr>\n",
              "      <th>1936755</th>\n",
              "      <td>2008</td>\n",
              "      <td>12</td>\n",
              "      <td>31</td>\n",
              "      <td>3</td>\n",
              "      <td>2355.0</td>\n",
              "      <td>2315</td>\n",
              "      <td>645.0</td>\n",
              "      <td>621</td>\n",
              "      <td>DL</td>\n",
              "      <td>952</td>\n",
              "      <td>...</td>\n",
              "      <td>5.0</td>\n",
              "      <td>11.0</td>\n",
              "      <td>0</td>\n",
              "      <td>N</td>\n",
              "      <td>0</td>\n",
              "      <td>24.0</td>\n",
              "      <td>0.0</td>\n",
              "      <td>0.0</td>\n",
              "      <td>0.0</td>\n",
              "      <td>0.0</td>\n",
              "    </tr>\n",
              "    <tr>\n",
              "      <th>1936756</th>\n",
              "      <td>2008</td>\n",
              "      <td>12</td>\n",
              "      <td>31</td>\n",
              "      <td>3</td>\n",
              "      <td>2356.0</td>\n",
              "      <td>1925</td>\n",
              "      <td>253.0</td>\n",
              "      <td>2234</td>\n",
              "      <td>NW</td>\n",
              "      <td>245</td>\n",
              "      <td>...</td>\n",
              "      <td>8.0</td>\n",
              "      <td>15.0</td>\n",
              "      <td>0</td>\n",
              "      <td>N</td>\n",
              "      <td>0</td>\n",
              "      <td>259.0</td>\n",
              "      <td>0.0</td>\n",
              "      <td>0.0</td>\n",
              "      <td>0.0</td>\n",
              "      <td>0.0</td>\n",
              "    </tr>\n",
              "    <tr>\n",
              "      <th>1936757</th>\n",
              "      <td>2008</td>\n",
              "      <td>12</td>\n",
              "      <td>31</td>\n",
              "      <td>3</td>\n",
              "      <td>2358.0</td>\n",
              "      <td>2230</td>\n",
              "      <td>101.0</td>\n",
              "      <td>2344</td>\n",
              "      <td>US</td>\n",
              "      <td>1002</td>\n",
              "      <td>...</td>\n",
              "      <td>3.0</td>\n",
              "      <td>14.0</td>\n",
              "      <td>0</td>\n",
              "      <td>N</td>\n",
              "      <td>0</td>\n",
              "      <td>0.0</td>\n",
              "      <td>0.0</td>\n",
              "      <td>0.0</td>\n",
              "      <td>0.0</td>\n",
              "      <td>77.0</td>\n",
              "    </tr>\n",
              "  </tbody>\n",
              "</table>\n",
              "<p>1936758 rows × 29 columns</p>\n",
              "</div>\n",
              "    <div class=\"colab-df-buttons\">\n",
              "\n",
              "  <div class=\"colab-df-container\">\n",
              "    <button class=\"colab-df-convert\" onclick=\"convertToInteractive('df-1a631d94-67d2-413b-bb53-003bcd08bb8f')\"\n",
              "            title=\"Convert this dataframe to an interactive table.\"\n",
              "            style=\"display:none;\">\n",
              "\n",
              "  <svg xmlns=\"http://www.w3.org/2000/svg\" height=\"24px\" viewBox=\"0 -960 960 960\">\n",
              "    <path d=\"M120-120v-720h720v720H120Zm60-500h600v-160H180v160Zm220 220h160v-160H400v160Zm0 220h160v-160H400v160ZM180-400h160v-160H180v160Zm440 0h160v-160H620v160ZM180-180h160v-160H180v160Zm440 0h160v-160H620v160Z\"/>\n",
              "  </svg>\n",
              "    </button>\n",
              "\n",
              "  <style>\n",
              "    .colab-df-container {\n",
              "      display:flex;\n",
              "      gap: 12px;\n",
              "    }\n",
              "\n",
              "    .colab-df-convert {\n",
              "      background-color: #E8F0FE;\n",
              "      border: none;\n",
              "      border-radius: 50%;\n",
              "      cursor: pointer;\n",
              "      display: none;\n",
              "      fill: #1967D2;\n",
              "      height: 32px;\n",
              "      padding: 0 0 0 0;\n",
              "      width: 32px;\n",
              "    }\n",
              "\n",
              "    .colab-df-convert:hover {\n",
              "      background-color: #E2EBFA;\n",
              "      box-shadow: 0px 1px 2px rgba(60, 64, 67, 0.3), 0px 1px 3px 1px rgba(60, 64, 67, 0.15);\n",
              "      fill: #174EA6;\n",
              "    }\n",
              "\n",
              "    .colab-df-buttons div {\n",
              "      margin-bottom: 4px;\n",
              "    }\n",
              "\n",
              "    [theme=dark] .colab-df-convert {\n",
              "      background-color: #3B4455;\n",
              "      fill: #D2E3FC;\n",
              "    }\n",
              "\n",
              "    [theme=dark] .colab-df-convert:hover {\n",
              "      background-color: #434B5C;\n",
              "      box-shadow: 0px 1px 3px 1px rgba(0, 0, 0, 0.15);\n",
              "      filter: drop-shadow(0px 1px 2px rgba(0, 0, 0, 0.3));\n",
              "      fill: #FFFFFF;\n",
              "    }\n",
              "  </style>\n",
              "\n",
              "    <script>\n",
              "      const buttonEl =\n",
              "        document.querySelector('#df-1a631d94-67d2-413b-bb53-003bcd08bb8f button.colab-df-convert');\n",
              "      buttonEl.style.display =\n",
              "        google.colab.kernel.accessAllowed ? 'block' : 'none';\n",
              "\n",
              "      async function convertToInteractive(key) {\n",
              "        const element = document.querySelector('#df-1a631d94-67d2-413b-bb53-003bcd08bb8f');\n",
              "        const dataTable =\n",
              "          await google.colab.kernel.invokeFunction('convertToInteractive',\n",
              "                                                    [key], {});\n",
              "        if (!dataTable) return;\n",
              "\n",
              "        const docLinkHtml = 'Like what you see? Visit the ' +\n",
              "          '<a target=\"_blank\" href=https://colab.research.google.com/notebooks/data_table.ipynb>data table notebook</a>'\n",
              "          + ' to learn more about interactive tables.';\n",
              "        element.innerHTML = '';\n",
              "        dataTable['output_type'] = 'display_data';\n",
              "        await google.colab.output.renderOutput(dataTable, element);\n",
              "        const docLink = document.createElement('div');\n",
              "        docLink.innerHTML = docLinkHtml;\n",
              "        element.appendChild(docLink);\n",
              "      }\n",
              "    </script>\n",
              "  </div>\n",
              "\n",
              "\n",
              "<div id=\"df-11fc48ff-1898-44e9-b37e-492a60ec1246\">\n",
              "  <button class=\"colab-df-quickchart\" onclick=\"quickchart('df-11fc48ff-1898-44e9-b37e-492a60ec1246')\"\n",
              "            title=\"Suggest charts\"\n",
              "            style=\"display:none;\">\n",
              "\n",
              "<svg xmlns=\"http://www.w3.org/2000/svg\" height=\"24px\"viewBox=\"0 0 24 24\"\n",
              "     width=\"24px\">\n",
              "    <g>\n",
              "        <path d=\"M19 3H5c-1.1 0-2 .9-2 2v14c0 1.1.9 2 2 2h14c1.1 0 2-.9 2-2V5c0-1.1-.9-2-2-2zM9 17H7v-7h2v7zm4 0h-2V7h2v10zm4 0h-2v-4h2v4z\"/>\n",
              "    </g>\n",
              "</svg>\n",
              "  </button>\n",
              "\n",
              "<style>\n",
              "  .colab-df-quickchart {\n",
              "      --bg-color: #E8F0FE;\n",
              "      --fill-color: #1967D2;\n",
              "      --hover-bg-color: #E2EBFA;\n",
              "      --hover-fill-color: #174EA6;\n",
              "      --disabled-fill-color: #AAA;\n",
              "      --disabled-bg-color: #DDD;\n",
              "  }\n",
              "\n",
              "  [theme=dark] .colab-df-quickchart {\n",
              "      --bg-color: #3B4455;\n",
              "      --fill-color: #D2E3FC;\n",
              "      --hover-bg-color: #434B5C;\n",
              "      --hover-fill-color: #FFFFFF;\n",
              "      --disabled-bg-color: #3B4455;\n",
              "      --disabled-fill-color: #666;\n",
              "  }\n",
              "\n",
              "  .colab-df-quickchart {\n",
              "    background-color: var(--bg-color);\n",
              "    border: none;\n",
              "    border-radius: 50%;\n",
              "    cursor: pointer;\n",
              "    display: none;\n",
              "    fill: var(--fill-color);\n",
              "    height: 32px;\n",
              "    padding: 0;\n",
              "    width: 32px;\n",
              "  }\n",
              "\n",
              "  .colab-df-quickchart:hover {\n",
              "    background-color: var(--hover-bg-color);\n",
              "    box-shadow: 0 1px 2px rgba(60, 64, 67, 0.3), 0 1px 3px 1px rgba(60, 64, 67, 0.15);\n",
              "    fill: var(--button-hover-fill-color);\n",
              "  }\n",
              "\n",
              "  .colab-df-quickchart-complete:disabled,\n",
              "  .colab-df-quickchart-complete:disabled:hover {\n",
              "    background-color: var(--disabled-bg-color);\n",
              "    fill: var(--disabled-fill-color);\n",
              "    box-shadow: none;\n",
              "  }\n",
              "\n",
              "  .colab-df-spinner {\n",
              "    border: 2px solid var(--fill-color);\n",
              "    border-color: transparent;\n",
              "    border-bottom-color: var(--fill-color);\n",
              "    animation:\n",
              "      spin 1s steps(1) infinite;\n",
              "  }\n",
              "\n",
              "  @keyframes spin {\n",
              "    0% {\n",
              "      border-color: transparent;\n",
              "      border-bottom-color: var(--fill-color);\n",
              "      border-left-color: var(--fill-color);\n",
              "    }\n",
              "    20% {\n",
              "      border-color: transparent;\n",
              "      border-left-color: var(--fill-color);\n",
              "      border-top-color: var(--fill-color);\n",
              "    }\n",
              "    30% {\n",
              "      border-color: transparent;\n",
              "      border-left-color: var(--fill-color);\n",
              "      border-top-color: var(--fill-color);\n",
              "      border-right-color: var(--fill-color);\n",
              "    }\n",
              "    40% {\n",
              "      border-color: transparent;\n",
              "      border-right-color: var(--fill-color);\n",
              "      border-top-color: var(--fill-color);\n",
              "    }\n",
              "    60% {\n",
              "      border-color: transparent;\n",
              "      border-right-color: var(--fill-color);\n",
              "    }\n",
              "    80% {\n",
              "      border-color: transparent;\n",
              "      border-right-color: var(--fill-color);\n",
              "      border-bottom-color: var(--fill-color);\n",
              "    }\n",
              "    90% {\n",
              "      border-color: transparent;\n",
              "      border-bottom-color: var(--fill-color);\n",
              "    }\n",
              "  }\n",
              "</style>\n",
              "\n",
              "  <script>\n",
              "    async function quickchart(key) {\n",
              "      const quickchartButtonEl =\n",
              "        document.querySelector('#' + key + ' button');\n",
              "      quickchartButtonEl.disabled = true;  // To prevent multiple clicks.\n",
              "      quickchartButtonEl.classList.add('colab-df-spinner');\n",
              "      try {\n",
              "        const charts = await google.colab.kernel.invokeFunction(\n",
              "            'suggestCharts', [key], {});\n",
              "      } catch (error) {\n",
              "        console.error('Error during call to suggestCharts:', error);\n",
              "      }\n",
              "      quickchartButtonEl.classList.remove('colab-df-spinner');\n",
              "      quickchartButtonEl.classList.add('colab-df-quickchart-complete');\n",
              "    }\n",
              "    (() => {\n",
              "      let quickchartButtonEl =\n",
              "        document.querySelector('#df-11fc48ff-1898-44e9-b37e-492a60ec1246 button');\n",
              "      quickchartButtonEl.style.display =\n",
              "        google.colab.kernel.accessAllowed ? 'block' : 'none';\n",
              "    })();\n",
              "  </script>\n",
              "</div>\n",
              "    </div>\n",
              "  </div>\n"
            ],
            "application/vnd.google.colaboratory.intrinsic+json": {
              "type": "dataframe",
              "variable_name": "df"
            }
          },
          "metadata": {},
          "execution_count": 10
        }
      ]
    },
    {
      "cell_type": "code",
      "source": [
        "plt.plot(df.DepDelay[:100])"
      ],
      "metadata": {
        "id": "k9ULFD63jxa5",
        "colab": {
          "base_uri": "https://localhost:8080/",
          "height": 447
        },
        "outputId": "a4fd87c1-13cf-4222-8e81-6fe6724eb768"
      },
      "execution_count": 11,
      "outputs": [
        {
          "output_type": "execute_result",
          "data": {
            "text/plain": [
              "[<matplotlib.lines.Line2D at 0x7eb7ca178760>]"
            ]
          },
          "metadata": {},
          "execution_count": 11
        },
        {
          "output_type": "display_data",
          "data": {
            "text/plain": [
              "<Figure size 640x480 with 1 Axes>"
            ],
            "image/png": "[encoded data removed]"
          },
          "metadata": {}
        }
      ]
    },
    {
      "cell_type": "code",
      "source": [
        "plt.scatter(df.index[:100], df.DepDelay[:100])"
      ],
      "metadata": {
        "colab": {
          "base_uri": "https://localhost:8080/",
          "height": 447
        },
        "id": "Nb0omOyG6Qtr",
        "outputId": "ca32766c-ce8a-47af-ffba-a852d186614d"
      },
      "execution_count": 12,
      "outputs": [
        {
          "output_type": "execute_result",
          "data": {
            "text/plain": [
              "<matplotlib.collections.PathCollection at 0x7eb7c805fca0>"
            ]
          },
          "metadata": {},
          "execution_count": 12
        },
        {
          "output_type": "display_data",
          "data": {
            "text/plain": [
              "<Figure size 640x480 with 1 Axes>"
            ],
            "image/png": "[encoded data removed]"
          },
          "metadata": {}
        }
      ]
    },
    {
      "cell_type": "code",
      "source": [
        "# list(df.groupby(['Month', 'DayOfWeek']))"
      ],
      "metadata": {
        "id": "JXCRVIUzZ-v-"
      },
      "execution_count": 13,
      "outputs": []
    },
    {
      "cell_type": "code",
      "source": [
        "plt.bar(df.groupby('DayOfWeek')['DepDelay'].mean().index, df.groupby('DayOfWeek')['DepDelay'].mean())"
      ],
      "metadata": {
        "colab": {
          "base_uri": "https://localhost:8080/",
          "height": 447
        },
        "id": "ecEWcUH8mqlv",
        "outputId": "189d231c-5c97-4bb9-f12b-1e0bd3b8f1ea"
      },
      "execution_count": 14,
      "outputs": [
        {
          "output_type": "execute_result",
          "data": {
            "text/plain": [
              "<BarContainer object of 7 artists>"
            ]
          },
          "metadata": {},
          "execution_count": 14
        },
        {
          "output_type": "display_data",
          "data": {
            "text/plain": [
              "<Figure size 640x480 with 1 Axes>"
            ],
            "image/png": "[encoded data removed]"
          },
          "metadata": {}
        }
      ]
    },
    {
      "cell_type": "code",
      "source": [
        "plt.bar(df.groupby('DayofMonth')['DepDelay'].mean().index, df.groupby('DayofMonth')['DepDelay'].mean())"
      ],
      "metadata": {
        "colab": {
          "base_uri": "https://localhost:8080/",
          "height": 447
        },
        "id": "9nFgFZU8mw5P",
        "outputId": "184f8012-89d3-47e6-e34e-38132fc06d00"
      },
      "execution_count": 15,
      "outputs": [
        {
          "output_type": "execute_result",
          "data": {
            "text/plain": [
              "<BarContainer object of 31 artists>"
            ]
          },
          "metadata": {},
          "execution_count": 15
        },
        {
          "output_type": "display_data",
          "data": {
            "text/plain": [
              "<Figure size 640x480 with 1 Axes>"
            ],
            "image/png": "[encoded data removed]"
          },
          "metadata": {}
        }
      ]
    },
    {
      "cell_type": "code",
      "source": [
        "df[df['DepDelay']>120].shape[0] / df.shape[0] * 100"
      ],
      "metadata": {
        "colab": {
          "base_uri": "https://localhost:8080/"
        },
        "id": "9trV6iThoAcs",
        "outputId": "5f59ec6c-4f6f-44e7-9f6b-53d79ede5161"
      },
      "execution_count": 16,
      "outputs": [
        {
          "output_type": "execute_result",
          "data": {
            "text/plain": [
              "7.194239032444942"
            ]
          },
          "metadata": {},
          "execution_count": 16
        }
      ]
    },
    {
      "cell_type": "code",
      "source": [
        "9836 / df.shape[0] * 100"
      ],
      "metadata": {
        "colab": {
          "base_uri": "https://localhost:8080/"
        },
        "id": "enJu-pKq-TzB",
        "outputId": "9c7738e4-4c5d-4089-8aeb-d936b505902f"
      },
      "execution_count": 17,
      "outputs": [
        {
          "output_type": "execute_result",
          "data": {
            "text/plain": [
              "0.5078590097472168"
            ]
          },
          "metadata": {},
          "execution_count": 17
        }
      ]
    },
    {
      "cell_type": "code",
      "source": [
        "# # Time step detector\n",
        "# step_list = []\n",
        "# i = 0\n",
        "# for row in range(df.shape[0]):\n",
        "#     if df.loc[row]['DepDelay'] > 120:\n",
        "#         step_list.append(i)\n",
        "#         i = 0\n",
        "#     else:\n",
        "#         i += 1"
      ],
      "metadata": {
        "id": "DtA_1LEF-Zxn"
      },
      "execution_count": 18,
      "outputs": []
    },
    {
      "cell_type": "code",
      "source": [
        "# np.mean(step_list)"
      ],
      "metadata": {
        "id": "NJdJjRbfHeVe"
      },
      "execution_count": 19,
      "outputs": []
    },
    {
      "cell_type": "code",
      "source": [
        "data = df[['Month', 'DayofMonth', 'DayOfWeek', 'DepTime', 'DepDelay']].copy()"
      ],
      "metadata": {
        "id": "nrUeGcv8ItI9"
      },
      "execution_count": 20,
      "outputs": []
    },
    {
      "cell_type": "code",
      "source": [
        "data['DepDelay'].mean()"
      ],
      "metadata": {
        "colab": {
          "base_uri": "https://localhost:8080/"
        },
        "id": "xCsErYvqWS5k",
        "outputId": "42972dee-6b82-4957-aca1-2446915a96e3"
      },
      "execution_count": 21,
      "outputs": [
        {
          "output_type": "execute_result",
          "data": {
            "text/plain": [
              "43.185176464999756"
            ]
          },
          "metadata": {},
          "execution_count": 21
        }
      ]
    },
    {
      "cell_type": "code",
      "source": [
        "# df['gender'].mask(df['gender'] == 'female', 0, inplace=True)\n",
        "delay_mean = np.round(data['DepDelay'].mean())\n",
        "data['DepDelay'].mask(data['DepDelay'] > 120, delay_mean, inplace=True)"
      ],
      "metadata": {
        "id": "M3lYhnqlRaK7"
      },
      "execution_count": 22,
      "outputs": []
    },
    {
      "cell_type": "markdown",
      "source": [
        "Data Scaling"
      ],
      "metadata": {
        "id": "_9YUliFvthI6"
      }
    },
    {
      "cell_type": "code",
      "source": [
        "scaler = MinMaxScaler(feature_range=(0.1, 1.1))\n",
        "scaler.fit(data)\n",
        "transformed_matrix = scaler.transform(data)\n",
        "\n",
        "transformed_data = pd.DataFrame(data=transformed_matrix.round(3), columns=data.columns)"
      ],
      "metadata": {
        "id": "C4qXDQNTRbDg"
      },
      "execution_count": 23,
      "outputs": []
    },
    {
      "cell_type": "code",
      "source": [
        "# transformed_data['DayofMonth'].unique()"
      ],
      "metadata": {
        "id": "IuV-KA-4Sd2A"
      },
      "execution_count": 24,
      "outputs": []
    },
    {
      "cell_type": "code",
      "source": [
        "# def split_sequence(sequence, n_steps_in, n_steps_out):\n",
        "#   X, y = list(), list()\n",
        "#   for i in range(len(sequence)):\n",
        "#     # find the end of this pattern\n",
        "#     end_ix = i + n_steps_in\n",
        "#     out_end_ix = end_ix + n_steps_out\n",
        "#     # check if we are beyond the sequence\n",
        "#     if out_end_ix > len(sequence):\n",
        "#       break\n",
        "#     # gather input and output parts of the pattern\n",
        "#     seq_x, seq_y = sequence[i:end_ix], sequence[end_ix:out_end_ix]\n",
        "#     X.append(seq_x)\n",
        "#     y.append(seq_y)\n",
        "#   return array(X), array(y)"
      ],
      "metadata": {
        "id": "nY2eQ_5uq2ig"
      },
      "execution_count": 25,
      "outputs": []
    },
    {
      "cell_type": "code",
      "source": [
        "def timeseries_3d_maker(data:pd.DataFrame, step_in:int, step_out:int):\n",
        "    # Takes a pandas dataframe as input and create output 3D timeseries for LSTM layers\n",
        "\n",
        "    x_matrix = []\n",
        "    y_matrix = []\n",
        "    for i in range(data.shape[0]):\n",
        "        temp_matrix = []\n",
        "        temp_y_matrix = []\n",
        "        red_flag = 0\n",
        "        for j in range(0, step_in):\n",
        "            if i+step_in >= data.shape[0]:\n",
        "                red_flag = 1\n",
        "                break\n",
        "            temp_matrix.append(list(data.loc[i+j]))\n",
        "\n",
        "        for k in range(step_out):\n",
        "            if i+step_in+step_out >= data.shape[0]:\n",
        "                red_flag = 1\n",
        "                break\n",
        "            else:\n",
        "                temp_y_matrix.append([data.loc[i+step_in+k]['DepDelay']])\n",
        "\n",
        "        if red_flag == 1 or len(temp_matrix)<step_in:\n",
        "            break\n",
        "\n",
        "        x_matrix.append(temp_matrix)\n",
        "        y_matrix.append(temp_y_matrix)\n",
        "    return array(x_matrix), array(y_matrix)\n"
      ],
      "metadata": {
        "id": "X0u_0n3_WzMI"
      },
      "execution_count": 26,
      "outputs": []
    },
    {
      "cell_type": "code",
      "source": [
        "# dummy_df = data[:100].copy()\n",
        "# dummy_df.head(10)"
      ],
      "metadata": {
        "id": "6ONaBPFudnZs"
      },
      "execution_count": 27,
      "outputs": []
    },
    {
      "cell_type": "code",
      "source": [
        "transformed_data.head()"
      ],
      "metadata": {
        "colab": {
          "base_uri": "https://localhost:8080/",
          "height": 206
        },
        "id": "SurJi_TjVOV6",
        "outputId": "089ff786-1da6-42ae-b493-b308f1156f30"
      },
      "execution_count": 28,
      "outputs": [
        {
          "output_type": "execute_result",
          "data": {
            "text/plain": [
              "   Month  DayofMonth  DayOfWeek  DepTime  DepDelay\n",
              "0    0.1         0.1      0.267      0.1     0.425\n",
              "1    0.1         0.1      0.267      0.1     0.425\n",
              "2    0.1         0.1      0.267      0.1     0.109\n",
              "3    0.1         0.1      0.267      0.1     0.635\n",
              "4    0.1         0.1      0.267      0.1     0.109"
            ],
            "text/html": [
              "\n",
              "  <div id=\"df-ed4c8d6a-bb58-42a8-8595-f0501d2a87d3\" class=\"colab-df-container\">\n",
              "    <div>\n",
              "<style scoped>\n",
              "    .dataframe tbody tr th:only-of-type {\n",
              "        vertical-align: middle;\n",
              "    }\n",
              "\n",
              "    .dataframe tbody tr th {\n",
              "        vertical-align: top;\n",
              "    }\n",
              "\n",
              "    .dataframe thead th {\n",
              "        text-align: right;\n",
              "    }\n",
              "</style>\n",
              "<table border=\"1\" class=\"dataframe\">\n",
              "  <thead>\n",
              "    <tr style=\"text-align: right;\">\n",
              "      <th></th>\n",
              "      <th>Month</th>\n",
              "      <th>DayofMonth</th>\n",
              "      <th>DayOfWeek</th>\n",
              "      <th>DepTime</th>\n",
              "      <th>DepDelay</th>\n",
              "    </tr>\n",
              "  </thead>\n",
              "  <tbody>\n",
              "    <tr>\n",
              "      <th>0</th>\n",
              "      <td>0.1</td>\n",
              "      <td>0.1</td>\n",
              "      <td>0.267</td>\n",
              "      <td>0.1</td>\n",
              "      <td>0.425</td>\n",
              "    </tr>\n",
              "    <tr>\n",
              "      <th>1</th>\n",
              "      <td>0.1</td>\n",
              "      <td>0.1</td>\n",
              "      <td>0.267</td>\n",
              "      <td>0.1</td>\n",
              "      <td>0.425</td>\n",
              "    </tr>\n",
              "    <tr>\n",
              "      <th>2</th>\n",
              "      <td>0.1</td>\n",
              "      <td>0.1</td>\n",
              "      <td>0.267</td>\n",
              "      <td>0.1</td>\n",
              "      <td>0.109</td>\n",
              "    </tr>\n",
              "    <tr>\n",
              "      <th>3</th>\n",
              "      <td>0.1</td>\n",
              "      <td>0.1</td>\n",
              "      <td>0.267</td>\n",
              "      <td>0.1</td>\n",
              "      <td>0.635</td>\n",
              "    </tr>\n",
              "    <tr>\n",
              "      <th>4</th>\n",
              "      <td>0.1</td>\n",
              "      <td>0.1</td>\n",
              "      <td>0.267</td>\n",
              "      <td>0.1</td>\n",
              "      <td>0.109</td>\n",
              "    </tr>\n",
              "  </tbody>\n",
              "</table>\n",
              "</div>\n",
              "    <div class=\"colab-df-buttons\">\n",
              "\n",
              "  <div class=\"colab-df-container\">\n",
              "    <button class=\"colab-df-convert\" onclick=\"convertToInteractive('df-ed4c8d6a-bb58-42a8-8595-f0501d2a87d3')\"\n",
              "            title=\"Convert this dataframe to an interactive table.\"\n",
              "            style=\"display:none;\">\n",
              "\n",
              "  <svg xmlns=\"http://www.w3.org/2000/svg\" height=\"24px\" viewBox=\"0 -960 960 960\">\n",
              "    <path d=\"M120-120v-720h720v720H120Zm60-500h600v-160H180v160Zm220 220h160v-160H400v160Zm0 220h160v-160H400v160ZM180-400h160v-160H180v160Zm440 0h160v-160H620v160ZM180-180h160v-160H180v160Zm440 0h160v-160H620v160Z\"/>\n",
              "  </svg>\n",
              "    </button>\n",
              "\n",
              "  <style>\n",
              "    .colab-df-container {\n",
              "      display:flex;\n",
              "      gap: 12px;\n",
              "    }\n",
              "\n",
              "    .colab-df-convert {\n",
              "      background-color: #E8F0FE;\n",
              "      border: none;\n",
              "      border-radius: 50%;\n",
              "      cursor: pointer;\n",
              "      display: none;\n",
              "      fill: #1967D2;\n",
              "      height: 32px;\n",
              "      padding: 0 0 0 0;\n",
              "      width: 32px;\n",
              "    }\n",
              "\n",
              "    .colab-df-convert:hover {\n",
              "      background-color: #E2EBFA;\n",
              "      box-shadow: 0px 1px 2px rgba(60, 64, 67, 0.3), 0px 1px 3px 1px rgba(60, 64, 67, 0.15);\n",
              "      fill: #174EA6;\n",
              "    }\n",
              "\n",
              "    .colab-df-buttons div {\n",
              "      margin-bottom: 4px;\n",
              "    }\n",
              "\n",
              "    [theme=dark] .colab-df-convert {\n",
              "      background-color: #3B4455;\n",
              "      fill: #D2E3FC;\n",
              "    }\n",
              "\n",
              "    [theme=dark] .colab-df-convert:hover {\n",
              "      background-color: #434B5C;\n",
              "      box-shadow: 0px 1px 3px 1px rgba(0, 0, 0, 0.15);\n",
              "      filter: drop-shadow(0px 1px 2px rgba(0, 0, 0, 0.3));\n",
              "      fill: #FFFFFF;\n",
              "    }\n",
              "  </style>\n",
              "\n",
              "    <script>\n",
              "      const buttonEl =\n",
              "        document.querySelector('#df-ed4c8d6a-bb58-42a8-8595-f0501d2a87d3 button.colab-df-convert');\n",
              "      buttonEl.style.display =\n",
              "        google.colab.kernel.accessAllowed ? 'block' : 'none';\n",
              "\n",
              "      async function convertToInteractive(key) {\n",
              "        const element = document.querySelector('#df-ed4c8d6a-bb58-42a8-8595-f0501d2a87d3');\n",
              "        const dataTable =\n",
              "          await google.colab.kernel.invokeFunction('convertToInteractive',\n",
              "                                                    [key], {});\n",
              "        if (!dataTable) return;\n",
              "\n",
              "        const docLinkHtml = 'Like what you see? Visit the ' +\n",
              "          '<a target=\"_blank\" href=https://colab.research.google.com/notebooks/data_table.ipynb>data table notebook</a>'\n",
              "          + ' to learn more about interactive tables.';\n",
              "        element.innerHTML = '';\n",
              "        dataTable['output_type'] = 'display_data';\n",
              "        await google.colab.output.renderOutput(dataTable, element);\n",
              "        const docLink = document.createElement('div');\n",
              "        docLink.innerHTML = docLinkHtml;\n",
              "        element.appendChild(docLink);\n",
              "      }\n",
              "    </script>\n",
              "  </div>\n",
              "\n",
              "\n",
              "<div id=\"df-98e334bc-be54-43ca-bcc9-61d35bfd23c7\">\n",
              "  <button class=\"colab-df-quickchart\" onclick=\"quickchart('df-98e334bc-be54-43ca-bcc9-61d35bfd23c7')\"\n",
              "            title=\"Suggest charts\"\n",
              "            style=\"display:none;\">\n",
              "\n",
              "<svg xmlns=\"http://www.w3.org/2000/svg\" height=\"24px\"viewBox=\"0 0 24 24\"\n",
              "     width=\"24px\">\n",
              "    <g>\n",
              "        <path d=\"M19 3H5c-1.1 0-2 .9-2 2v14c0 1.1.9 2 2 2h14c1.1 0 2-.9 2-2V5c0-1.1-.9-2-2-2zM9 17H7v-7h2v7zm4 0h-2V7h2v10zm4 0h-2v-4h2v4z\"/>\n",
              "    </g>\n",
              "</svg>\n",
              "  </button>\n",
              "\n",
              "<style>\n",
              "  .colab-df-quickchart {\n",
              "      --bg-color: #E8F0FE;\n",
              "      --fill-color: #1967D2;\n",
              "      --hover-bg-color: #E2EBFA;\n",
              "      --hover-fill-color: #174EA6;\n",
              "      --disabled-fill-color: #AAA;\n",
              "      --disabled-bg-color: #DDD;\n",
              "  }\n",
              "\n",
              "  [theme=dark] .colab-df-quickchart {\n",
              "      --bg-color: #3B4455;\n",
              "      --fill-color: #D2E3FC;\n",
              "      --hover-bg-color: #434B5C;\n",
              "      --hover-fill-color: #FFFFFF;\n",
              "      --disabled-bg-color: #3B4455;\n",
              "      --disabled-fill-color: #666;\n",
              "  }\n",
              "\n",
              "  .colab-df-quickchart {\n",
              "    background-color: var(--bg-color);\n",
              "    border: none;\n",
              "    border-radius: 50%;\n",
              "    cursor: pointer;\n",
              "    display: none;\n",
              "    fill: var(--fill-color);\n",
              "    height: 32px;\n",
              "    padding: 0;\n",
              "    width: 32px;\n",
              "  }\n",
              "\n",
              "  .colab-df-quickchart:hover {\n",
              "    background-color: var(--hover-bg-color);\n",
              "    box-shadow: 0 1px 2px rgba(60, 64, 67, 0.3), 0 1px 3px 1px rgba(60, 64, 67, 0.15);\n",
              "    fill: var(--button-hover-fill-color);\n",
              "  }\n",
              "\n",
              "  .colab-df-quickchart-complete:disabled,\n",
              "  .colab-df-quickchart-complete:disabled:hover {\n",
              "    background-color: var(--disabled-bg-color);\n",
              "    fill: var(--disabled-fill-color);\n",
              "    box-shadow: none;\n",
              "  }\n",
              "\n",
              "  .colab-df-spinner {\n",
              "    border: 2px solid var(--fill-color);\n",
              "    border-color: transparent;\n",
              "    border-bottom-color: var(--fill-color);\n",
              "    animation:\n",
              "      spin 1s steps(1) infinite;\n",
              "  }\n",
              "\n",
              "  @keyframes spin {\n",
              "    0% {\n",
              "      border-color: transparent;\n",
              "      border-bottom-color: var(--fill-color);\n",
              "      border-left-color: var(--fill-color);\n",
              "    }\n",
              "    20% {\n",
              "      border-color: transparent;\n",
              "      border-left-color: var(--fill-color);\n",
              "      border-top-color: var(--fill-color);\n",
              "    }\n",
              "    30% {\n",
              "      border-color: transparent;\n",
              "      border-left-color: var(--fill-color);\n",
              "      border-top-color: var(--fill-color);\n",
              "      border-right-color: var(--fill-color);\n",
              "    }\n",
              "    40% {\n",
              "      border-color: transparent;\n",
              "      border-right-color: var(--fill-color);\n",
              "      border-top-color: var(--fill-color);\n",
              "    }\n",
              "    60% {\n",
              "      border-color: transparent;\n",
              "      border-right-color: var(--fill-color);\n",
              "    }\n",
              "    80% {\n",
              "      border-color: transparent;\n",
              "      border-right-color: var(--fill-color);\n",
              "      border-bottom-color: var(--fill-color);\n",
              "    }\n",
              "    90% {\n",
              "      border-color: transparent;\n",
              "      border-bottom-color: var(--fill-color);\n",
              "    }\n",
              "  }\n",
              "</style>\n",
              "\n",
              "  <script>\n",
              "    async function quickchart(key) {\n",
              "      const quickchartButtonEl =\n",
              "        document.querySelector('#' + key + ' button');\n",
              "      quickchartButtonEl.disabled = true;  // To prevent multiple clicks.\n",
              "      quickchartButtonEl.classList.add('colab-df-spinner');\n",
              "      try {\n",
              "        const charts = await google.colab.kernel.invokeFunction(\n",
              "            'suggestCharts', [key], {});\n",
              "      } catch (error) {\n",
              "        console.error('Error during call to suggestCharts:', error);\n",
              "      }\n",
              "      quickchartButtonEl.classList.remove('colab-df-spinner');\n",
              "      quickchartButtonEl.classList.add('colab-df-quickchart-complete');\n",
              "    }\n",
              "    (() => {\n",
              "      let quickchartButtonEl =\n",
              "        document.querySelector('#df-98e334bc-be54-43ca-bcc9-61d35bfd23c7 button');\n",
              "      quickchartButtonEl.style.display =\n",
              "        google.colab.kernel.accessAllowed ? 'block' : 'none';\n",
              "    })();\n",
              "  </script>\n",
              "</div>\n",
              "    </div>\n",
              "  </div>\n"
            ],
            "application/vnd.google.colaboratory.intrinsic+json": {
              "type": "dataframe",
              "variable_name": "transformed_data"
            }
          },
          "metadata": {},
          "execution_count": 28
        }
      ]
    },
    {
      "cell_type": "code",
      "source": [
        "step_in = 7\n",
        "step_out = 1\n",
        "n_features = 5"
      ],
      "metadata": {
        "id": "pFrHgGe9Zd-W"
      },
      "execution_count": 29,
      "outputs": []
    },
    {
      "cell_type": "code",
      "source": [
        "# X, y = timeseries_3d_maker(transformed_data, step_in, step_out)"
      ],
      "metadata": {
        "id": "4XMs-xg-WhST"
      },
      "execution_count": 30,
      "outputs": []
    },
    {
      "cell_type": "code",
      "source": [
        "# with open(f'./drive/MyDrive/Colab Notebooks/Foad/courses/Probabilistic Learning/project/data/X_{step_in}_{step_out}.pkl', 'wb') as file:\n",
        "#     # A new file will be created\n",
        "#     pickle.dump(X, file)"
      ],
      "metadata": {
        "id": "W0BkACBVfDNj"
      },
      "execution_count": 31,
      "outputs": []
    },
    {
      "cell_type": "code",
      "source": [
        "# with open(f'./drive/MyDrive/Colab Notebooks/Foad/courses/Probabilistic Learning/project/data/y_{step_in}_{step_out}.pkl', 'wb') as file:\n",
        "#     # A new file will be created\n",
        "    # pickle.dump(y, file)"
      ],
      "metadata": {
        "id": "Af2A_-IJhQuj"
      },
      "execution_count": 32,
      "outputs": []
    },
    {
      "cell_type": "code",
      "source": [
        "with open(f'./drive/MyDrive/Colab Notebooks/Foad/courses/Probabilistic Learning/project/data/X_{step_in}_{step_out}.pkl', 'rb') as file:\n",
        "    # Call load method to deserialze\n",
        "    X = pickle.load(file)\n",
        "\n",
        "with open(f'./drive/MyDrive/Colab Notebooks/Foad/courses/Probabilistic Learning/project/data/y_{step_in}_{step_out}.pkl', 'rb') as file:\n",
        "    # Call load method to deserialze\n",
        "    y = pickle.load(file)"
      ],
      "metadata": {
        "id": "qR1R0lzJg6bI"
      },
      "execution_count": 33,
      "outputs": []
    },
    {
      "cell_type": "code",
      "source": [
        "X.shape[0] * 0.7"
      ],
      "metadata": {
        "colab": {
          "base_uri": "https://localhost:8080/"
        },
        "id": "tX68eMg7RSku",
        "outputId": "92b5d67c-a9a3-4e85-e352-ee478b2ad752"
      },
      "execution_count": 34,
      "outputs": [
        {
          "output_type": "execute_result",
          "data": {
            "text/plain": [
              "1355725.0"
            ]
          },
          "metadata": {},
          "execution_count": 34
        }
      ]
    },
    {
      "cell_type": "code",
      "source": [
        "train_perc = int(X.shape[0] * 0.7)\n",
        "valid_perc = int(X.shape[0] * 0.9)\n",
        "\n",
        "X_train = X[:train_perc]\n",
        "y_train = y[:train_perc]\n",
        "\n",
        "X_valid = X[train_perc:valid_perc]\n",
        "y_valid = y[train_perc:valid_perc]\n",
        "\n",
        "X_test = X[valid_perc:]\n",
        "y_test = y[valid_perc:]"
      ],
      "metadata": {
        "id": "Ccyxs0dhRADp"
      },
      "execution_count": 35,
      "outputs": []
    },
    {
      "cell_type": "code",
      "source": [
        "print(X_test.shape)\n",
        "print(X_test.shape)"
      ],
      "metadata": {
        "colab": {
          "base_uri": "https://localhost:8080/"
        },
        "id": "eMVHuw72hu8j",
        "outputId": "1ae94944-877d-4aff-83ad-7b8dcaa642a1"
      },
      "execution_count": 36,
      "outputs": [
        {
          "output_type": "stream",
          "name": "stdout",
          "text": [
            "(193675, 7, 5)\n",
            "(193675, 7, 5)\n"
          ]
        }
      ]
    },
    {
      "cell_type": "code",
      "source": [
        "# print(X[:5])\n",
        "# print(y[:5])\n",
        "# print(len(X))\n",
        "# print(len(y))"
      ],
      "metadata": {
        "id": "Tpb0Hpy52Qgv"
      },
      "execution_count": 37,
      "outputs": []
    },
    {
      "cell_type": "markdown",
      "source": [
        "# Model"
      ],
      "metadata": {
        "id": "-gBgCVOBfl3I"
      }
    },
    {
      "cell_type": "code",
      "source": [
        "print(tf.__version__)"
      ],
      "metadata": {
        "colab": {
          "base_uri": "https://localhost:8080/"
        },
        "id": "YS9vzeR0fqzU",
        "outputId": "f1bb5285-1a82-46d1-9886-a30d3e9ead89"
      },
      "execution_count": 38,
      "outputs": [
        {
          "output_type": "stream",
          "name": "stdout",
          "text": [
            "2.15.0\n"
          ]
        }
      ]
    },
    {
      "cell_type": "markdown",
      "source": [
        "Distributions"
      ],
      "metadata": {
        "id": "zOaNelZ5mKu5"
      }
    },
    {
      "cell_type": "code",
      "source": [
        "# Define the prior weight distribution --all N(0, 1) -- and not trainable\n",
        "\n",
        "def prior(kernel_size, bias_size, dtype=None):\n",
        "  n = kernel_size + bias_size\n",
        "  prior_model = Sequential([\n",
        "                            tfpl.DistributionLambda(\n",
        "                                lambda t : tfd.MultivariateNormalDiag(loc=tf.zeros(n), scale_diag=tf.ones(n))\n",
        "                            )\n",
        "  ])\n",
        "  return prior_model"
      ],
      "metadata": {
        "id": "daItPejOmQIE"
      },
      "execution_count": 39,
      "outputs": []
    },
    {
      "cell_type": "code",
      "source": [
        "# Define variational posterior weight distribution -- multivariate Gaussian\n",
        "\n",
        "def posterior(kernel_size, bias_size, dtype=None):\n",
        "  n = kernel_size + bias_size\n",
        "  posterior_model = Sequential([\n",
        "                                tfpl.VariableLayer(tfpl.MultivariateNormalTriL.params_size(n), dtype=dtype),\n",
        "                                tfpl.MultivariateNormalTriL(n)\n",
        "  ])\n",
        "  return posterior_model"
      ],
      "metadata": {
        "id": "hZ1XkjmymW7k"
      },
      "execution_count": 40,
      "outputs": []
    },
    {
      "cell_type": "code",
      "source": [
        "# def get_model(n_steps_in, n_features):\n",
        "\n",
        "#   model = Sequential()\n",
        "#   model.add(LSTM(100, activation='relu', input_shape=(n_steps_in, n_features)))\n",
        "#   model.add(RepeatVector(step_out))\n",
        "#   model.add(LSTM(100, activation='relu', return_sequences=True))\n",
        "#   model.add(tfpl.DenseVariational(input_shape=(3,),\n",
        "#                                             units=3,\n",
        "#                                             make_prior_fn=prior,\n",
        "#                                             make_posterior_fn=posterior,\n",
        "#                                             kl_weight=1/X.shape[0],\n",
        "#                                             kl_use_exact=True))\n",
        "#   model.add(TimeDistributed(Dense(1)))\n",
        "#   model.compile(optimizer='adam', loss='mse', metrics=['mae'])\n",
        "#   return model"
      ],
      "metadata": {
        "id": "Vso1IdnKq7-i"
      },
      "execution_count": 41,
      "outputs": []
    },
    {
      "cell_type": "code",
      "source": [
        "def get_model(n_steps_in, n_features):\n",
        "\n",
        "  model = Sequential()\n",
        "  model.add(LSTM(64, activation='relu', return_sequences=True, input_shape=(n_steps_in, n_features)))\n",
        "#   model.add(Dropout(0.2))\n",
        "  model.add(LSTM(64, activation='relu', return_sequences=True))\n",
        "#   model.add(Dropout(0.2))\n",
        "  model.add(LSTM(32, activation='relu', return_sequences=True))\n",
        "#   model.add(Dropout(0.2))\n",
        "  model.add(LSTM(32, activation='relu', return_sequences=False ))\n",
        "#   model.add(Dropout(0.2))\n",
        "#   model.add(tfpl.DenseVariational(units=8,\n",
        "#                                             make_prior_fn=prior,\n",
        "#                                             make_posterior_fn=posterior,\n",
        "#                                             kl_weight=1/100,\n",
        "#                                             kl_use_exact=True))\n",
        "#   model.add(tfpl.DenseVariational(units=4,\n",
        "#                                             make_prior_fn=prior,\n",
        "#                                             make_posterior_fn=posterior,\n",
        "#                                             kl_weight=1/100,\n",
        "#                                             kl_use_exact=True))\n",
        "#   model.add(tfpl.DenseVariational(units=2,\n",
        "#                                             make_prior_fn=prior,\n",
        "#                                             make_posterior_fn=posterior,\n",
        "#                                             kl_weight=1/100,\n",
        "#                                             kl_use_exact=True))\n",
        "#   model.add(Dense(4))\n",
        "  model.add(tfpl.DenseVariational(units=1,\n",
        "                                            make_prior_fn=prior,\n",
        "                                            make_posterior_fn=posterior,\n",
        "                                            kl_weight=1/100,\n",
        "                                            kl_use_exact=True))\n",
        "#   model.add(Dense(1))\n",
        "  model.compile(optimizer='adam', loss='mse', metrics=['mae'])\n",
        "  return model"
      ],
      "metadata": {
        "id": "r68vsXVOq3MK"
      },
      "execution_count": 117,
      "outputs": []
    },
    {
      "cell_type": "code",
      "source": [
        "nn_model = get_model(step_in, n_features)\n",
        "nn_model.summary()"
      ],
      "metadata": {
        "colab": {
          "base_uri": "https://localhost:8080/"
        },
        "id": "sXeMVWLKZsg1",
        "outputId": "0eb41758-14f7-424b-d334-27deac39de3e"
      },
      "execution_count": 118,
      "outputs": [
        {
          "output_type": "stream",
          "name": "stdout",
          "text": [
            "Model: \"sequential_5\"\n",
            "_________________________________________________________________\n",
            " Layer (type)                Output Shape              Param #   \n",
            "=================================================================\n",
            " lstm_20 (LSTM)              (None, 7, 64)             17920     \n",
            "                                                                 \n",
            " lstm_21 (LSTM)              (None, 7, 64)             33024     \n",
            "                                                                 \n",
            " lstm_22 (LSTM)              (None, 7, 32)             12416     \n",
            "                                                                 \n",
            " lstm_23 (LSTM)              (None, 32)                8320      \n",
            "                                                                 \n",
            " dense_variational_14 (Dens  (None, 1)                 594       \n",
            " eVariational)                                                   \n",
            "                                                                 \n",
            "=================================================================\n",
            "Total params: 72274 (282.32 KB)\n",
            "Trainable params: 72274 (282.32 KB)\n",
            "Non-trainable params: 0 (0.00 Byte)\n",
            "_________________________________________________________________\n"
          ]
        }
      ]
    },
    {
      "cell_type": "code",
      "source": [
        "num_epoch = 120\n",
        "nn_history = nn_model.fit(X_train[:100], y_train[:100], batch_size=2, #validation_data=(X_valid, y_valid),\n",
        "                            epochs=num_epoch,\n",
        "                            verbose=1)"
      ],
      "metadata": {
        "colab": {
          "base_uri": "https://localhost:8080/"
        },
        "id": "0fMDyDjtaF0w",
        "outputId": "5e7a06b5-9a43-48f0-9c33-43f958e828e2"
      },
      "execution_count": 119,
      "outputs": [
        {
          "output_type": "stream",
          "name": "stdout",
          "text": [
            "Epoch 1/120\n",
            "50/50 [==============================] - 6s 18ms/step - loss: 0.5161 - mae: 0.5283\n",
            "Epoch 2/120\n",
            "50/50 [==============================] - 1s 17ms/step - loss: 0.5648 - mae: 0.6036\n",
            "Epoch 3/120\n",
            "50/50 [==============================] - 1s 16ms/step - loss: 0.6753 - mae: 0.5723\n",
            "Epoch 4/120\n",
            "50/50 [==============================] - 1s 17ms/step - loss: 0.7453 - mae: 0.6659\n",
            "Epoch 5/120\n",
            "50/50 [==============================] - 1s 17ms/step - loss: 0.5962 - mae: 0.6529\n",
            "Epoch 6/120\n",
            "50/50 [==============================] - 1s 11ms/step - loss: 0.4006 - mae: 0.4885\n",
            "Epoch 7/120\n",
            "50/50 [==============================] - 1s 11ms/step - loss: 0.4307 - mae: 0.5130\n",
            "Epoch 8/120\n",
            "50/50 [==============================] - 1s 11ms/step - loss: 0.5584 - mae: 0.5991\n",
            "Epoch 9/120\n",
            "50/50 [==============================] - 1s 10ms/step - loss: 0.3782 - mae: 0.4850\n",
            "Epoch 10/120\n",
            "50/50 [==============================] - 1s 11ms/step - loss: 0.3256 - mae: 0.4573\n",
            "Epoch 11/120\n",
            "50/50 [==============================] - 1s 11ms/step - loss: 0.3261 - mae: 0.4340\n",
            "Epoch 12/120\n",
            "50/50 [==============================] - 1s 11ms/step - loss: 0.4224 - mae: 0.5259\n",
            "Epoch 13/120\n",
            "50/50 [==============================] - 1s 10ms/step - loss: 0.3741 - mae: 0.4629\n",
            "Epoch 14/120\n",
            "50/50 [==============================] - 1s 10ms/step - loss: 0.3584 - mae: 0.4386\n",
            "Epoch 15/120\n",
            "50/50 [==============================] - 1s 10ms/step - loss: 0.3438 - mae: 0.4649\n",
            "Epoch 16/120\n",
            "50/50 [==============================] - 1s 11ms/step - loss: 0.3399 - mae: 0.4528\n",
            "Epoch 17/120\n",
            "50/50 [==============================] - 1s 11ms/step - loss: 0.2473 - mae: 0.3890\n",
            "Epoch 18/120\n",
            "50/50 [==============================] - 1s 10ms/step - loss: 0.3505 - mae: 0.4752\n",
            "Epoch 19/120\n",
            "50/50 [==============================] - 1s 10ms/step - loss: 0.2707 - mae: 0.4141\n",
            "Epoch 20/120\n",
            "50/50 [==============================] - 1s 11ms/step - loss: 0.2741 - mae: 0.4051\n",
            "Epoch 21/120\n",
            "50/50 [==============================] - 1s 11ms/step - loss: 0.2964 - mae: 0.4597\n",
            "Epoch 22/120\n",
            "50/50 [==============================] - 1s 11ms/step - loss: 0.2476 - mae: 0.4023\n",
            "Epoch 23/120\n",
            "50/50 [==============================] - 1s 11ms/step - loss: 0.2327 - mae: 0.3852\n",
            "Epoch 24/120\n",
            "50/50 [==============================] - 1s 17ms/step - loss: 0.2091 - mae: 0.3245\n",
            "Epoch 25/120\n",
            "50/50 [==============================] - 1s 18ms/step - loss: 0.2893 - mae: 0.4169\n",
            "Epoch 26/120\n",
            "50/50 [==============================] - 1s 18ms/step - loss: 0.2440 - mae: 0.3769\n",
            "Epoch 27/120\n",
            "50/50 [==============================] - 1s 19ms/step - loss: 0.2932 - mae: 0.4242\n",
            "Epoch 28/120\n",
            "50/50 [==============================] - 1s 15ms/step - loss: 0.2468 - mae: 0.3964\n",
            "Epoch 29/120\n",
            "50/50 [==============================] - 1s 11ms/step - loss: 0.2034 - mae: 0.3433\n",
            "Epoch 30/120\n",
            "50/50 [==============================] - 1s 11ms/step - loss: 0.2177 - mae: 0.3744\n",
            "Epoch 31/120\n",
            "50/50 [==============================] - 1s 11ms/step - loss: 0.2709 - mae: 0.4166\n",
            "Epoch 32/120\n",
            "50/50 [==============================] - 1s 11ms/step - loss: 0.2711 - mae: 0.4151\n",
            "Epoch 33/120\n",
            "50/50 [==============================] - 1s 12ms/step - loss: 0.2313 - mae: 0.3943\n",
            "Epoch 34/120\n",
            "50/50 [==============================] - 1s 11ms/step - loss: 0.2241 - mae: 0.3760\n",
            "Epoch 35/120\n",
            "50/50 [==============================] - 1s 11ms/step - loss: 0.1832 - mae: 0.3147\n",
            "Epoch 36/120\n",
            "50/50 [==============================] - 1s 11ms/step - loss: 0.1959 - mae: 0.3558\n",
            "Epoch 37/120\n",
            "50/50 [==============================] - 1s 10ms/step - loss: 0.2348 - mae: 0.3644\n",
            "Epoch 38/120\n",
            "50/50 [==============================] - 1s 11ms/step - loss: 0.1576 - mae: 0.2919\n",
            "Epoch 39/120\n",
            "50/50 [==============================] - 1s 11ms/step - loss: 0.2057 - mae: 0.3509\n",
            "Epoch 40/120\n",
            "50/50 [==============================] - 1s 11ms/step - loss: 0.2004 - mae: 0.3416\n",
            "Epoch 41/120\n",
            "50/50 [==============================] - 1s 11ms/step - loss: 0.1744 - mae: 0.3296\n",
            "Epoch 42/120\n",
            "50/50 [==============================] - 1s 11ms/step - loss: 0.2026 - mae: 0.3567\n",
            "Epoch 43/120\n",
            "50/50 [==============================] - 1s 11ms/step - loss: 0.2244 - mae: 0.3802\n",
            "Epoch 44/120\n",
            "50/50 [==============================] - 1s 11ms/step - loss: 0.2211 - mae: 0.3777\n",
            "Epoch 45/120\n",
            "50/50 [==============================] - 1s 11ms/step - loss: 0.1206 - mae: 0.2707\n",
            "Epoch 46/120\n",
            "50/50 [==============================] - 1s 13ms/step - loss: 0.1504 - mae: 0.2940\n",
            "Epoch 47/120\n",
            "50/50 [==============================] - 1s 17ms/step - loss: 0.1539 - mae: 0.3009\n",
            "Epoch 48/120\n",
            "50/50 [==============================] - 1s 17ms/step - loss: 0.1671 - mae: 0.3159\n",
            "Epoch 49/120\n",
            "50/50 [==============================] - 1s 17ms/step - loss: 0.1290 - mae: 0.2742\n",
            "Epoch 50/120\n",
            "50/50 [==============================] - 1s 17ms/step - loss: 0.1134 - mae: 0.2513\n",
            "Epoch 51/120\n",
            "50/50 [==============================] - 1s 16ms/step - loss: 0.1832 - mae: 0.3407\n",
            "Epoch 52/120\n",
            "50/50 [==============================] - 1s 10ms/step - loss: 0.1140 - mae: 0.2614\n",
            "Epoch 53/120\n",
            "50/50 [==============================] - 1s 11ms/step - loss: 0.1461 - mae: 0.2805\n",
            "Epoch 54/120\n",
            "50/50 [==============================] - 1s 10ms/step - loss: 0.1400 - mae: 0.2854\n",
            "Epoch 55/120\n",
            "50/50 [==============================] - 1s 10ms/step - loss: 0.1238 - mae: 0.2795\n",
            "Epoch 56/120\n",
            "50/50 [==============================] - 1s 10ms/step - loss: 0.1458 - mae: 0.2973\n",
            "Epoch 57/120\n",
            "50/50 [==============================] - 1s 11ms/step - loss: 0.1271 - mae: 0.2655\n",
            "Epoch 58/120\n",
            "50/50 [==============================] - 1s 11ms/step - loss: 0.1405 - mae: 0.2966\n",
            "Epoch 59/120\n",
            "50/50 [==============================] - 1s 11ms/step - loss: 0.1275 - mae: 0.2623\n",
            "Epoch 60/120\n",
            "50/50 [==============================] - 1s 20ms/step - loss: 0.1400 - mae: 0.2886\n",
            "Epoch 61/120\n",
            "50/50 [==============================] - 1s 20ms/step - loss: 0.1148 - mae: 0.2360\n",
            "Epoch 62/120\n",
            "50/50 [==============================] - 1s 14ms/step - loss: 0.1184 - mae: 0.2509\n",
            "Epoch 63/120\n",
            "50/50 [==============================] - 1s 16ms/step - loss: 0.1454 - mae: 0.2967\n",
            "Epoch 64/120\n",
            "50/50 [==============================] - 1s 11ms/step - loss: 0.1293 - mae: 0.2652\n",
            "Epoch 65/120\n",
            "50/50 [==============================] - 1s 11ms/step - loss: 0.1356 - mae: 0.2909\n",
            "Epoch 66/120\n",
            "50/50 [==============================] - 1s 11ms/step - loss: 0.1859 - mae: 0.3166\n",
            "Epoch 67/120\n",
            "50/50 [==============================] - 1s 13ms/step - loss: 0.1027 - mae: 0.2385\n",
            "Epoch 68/120\n",
            "50/50 [==============================] - 1s 16ms/step - loss: 0.1083 - mae: 0.2344\n",
            "Epoch 69/120\n",
            "50/50 [==============================] - 1s 17ms/step - loss: 0.1028 - mae: 0.2370\n",
            "Epoch 70/120\n",
            "50/50 [==============================] - 1s 16ms/step - loss: 0.1050 - mae: 0.2413\n",
            "Epoch 71/120\n",
            "50/50 [==============================] - 1s 17ms/step - loss: 0.1101 - mae: 0.2442\n",
            "Epoch 72/120\n",
            "50/50 [==============================] - 1s 13ms/step - loss: 0.0907 - mae: 0.2160\n",
            "Epoch 73/120\n",
            "50/50 [==============================] - 1s 11ms/step - loss: 0.1396 - mae: 0.2796\n",
            "Epoch 74/120\n",
            "50/50 [==============================] - 1s 10ms/step - loss: 0.0990 - mae: 0.2359\n",
            "Epoch 75/120\n",
            "50/50 [==============================] - 1s 11ms/step - loss: 0.0930 - mae: 0.2245\n",
            "Epoch 76/120\n",
            "50/50 [==============================] - 1s 10ms/step - loss: 0.1296 - mae: 0.2588\n",
            "Epoch 77/120\n",
            "50/50 [==============================] - 1s 11ms/step - loss: 0.1250 - mae: 0.2641\n",
            "Epoch 78/120\n",
            "50/50 [==============================] - 1s 11ms/step - loss: 0.0908 - mae: 0.2214\n",
            "Epoch 79/120\n",
            "50/50 [==============================] - 1s 11ms/step - loss: 0.1049 - mae: 0.2355\n",
            "Epoch 80/120\n",
            "50/50 [==============================] - 1s 11ms/step - loss: 0.1143 - mae: 0.2548\n",
            "Epoch 81/120\n",
            "50/50 [==============================] - 1s 11ms/step - loss: 0.1083 - mae: 0.2398\n",
            "Epoch 82/120\n",
            "50/50 [==============================] - 1s 10ms/step - loss: 0.1107 - mae: 0.2330\n",
            "Epoch 83/120\n",
            "50/50 [==============================] - 1s 11ms/step - loss: 0.0962 - mae: 0.2413\n",
            "Epoch 84/120\n",
            "50/50 [==============================] - 1s 10ms/step - loss: 0.1004 - mae: 0.2405\n",
            "Epoch 85/120\n",
            "50/50 [==============================] - 1s 11ms/step - loss: 0.0945 - mae: 0.2192\n",
            "Epoch 86/120\n",
            "50/50 [==============================] - 1s 11ms/step - loss: 0.1018 - mae: 0.2385\n",
            "Epoch 87/120\n",
            "50/50 [==============================] - 1s 11ms/step - loss: 0.0990 - mae: 0.2295\n",
            "Epoch 88/120\n",
            "50/50 [==============================] - 1s 10ms/step - loss: 0.0903 - mae: 0.2216\n",
            "Epoch 89/120\n",
            "50/50 [==============================] - 1s 11ms/step - loss: 0.0834 - mae: 0.2077\n",
            "Epoch 90/120\n",
            "50/50 [==============================] - 1s 11ms/step - loss: 0.1075 - mae: 0.2512\n",
            "Epoch 91/120\n",
            "50/50 [==============================] - 1s 17ms/step - loss: 0.1019 - mae: 0.2260\n",
            "Epoch 92/120\n",
            "50/50 [==============================] - 1s 16ms/step - loss: 0.0865 - mae: 0.2125\n",
            "Epoch 93/120\n",
            "50/50 [==============================] - 1s 17ms/step - loss: 0.1035 - mae: 0.2304\n",
            "Epoch 94/120\n",
            "50/50 [==============================] - 1s 17ms/step - loss: 0.0886 - mae: 0.2101\n",
            "Epoch 95/120\n",
            "50/50 [==============================] - 1s 16ms/step - loss: 0.0955 - mae: 0.2204\n",
            "Epoch 96/120\n",
            "50/50 [==============================] - 1s 10ms/step - loss: 0.1045 - mae: 0.2295\n",
            "Epoch 97/120\n",
            "50/50 [==============================] - 1s 11ms/step - loss: 0.0763 - mae: 0.1877\n",
            "Epoch 98/120\n",
            "50/50 [==============================] - 1s 11ms/step - loss: 0.0943 - mae: 0.2248\n",
            "Epoch 99/120\n",
            "50/50 [==============================] - 1s 11ms/step - loss: 0.0949 - mae: 0.2175\n",
            "Epoch 100/120\n",
            "50/50 [==============================] - 1s 10ms/step - loss: 0.0784 - mae: 0.1989\n",
            "Epoch 101/120\n",
            "50/50 [==============================] - 1s 11ms/step - loss: 0.0781 - mae: 0.1823\n",
            "Epoch 102/120\n",
            "50/50 [==============================] - 1s 10ms/step - loss: 0.1056 - mae: 0.2353\n",
            "Epoch 103/120\n",
            "50/50 [==============================] - 1s 11ms/step - loss: 0.0826 - mae: 0.2061\n",
            "Epoch 104/120\n",
            "50/50 [==============================] - 1s 11ms/step - loss: 0.0872 - mae: 0.1978\n",
            "Epoch 105/120\n",
            "50/50 [==============================] - 1s 11ms/step - loss: 0.0773 - mae: 0.1892\n",
            "Epoch 106/120\n",
            "50/50 [==============================] - 1s 10ms/step - loss: 0.0967 - mae: 0.2223\n",
            "Epoch 107/120\n",
            "50/50 [==============================] - 1s 11ms/step - loss: 0.0869 - mae: 0.2075\n",
            "Epoch 108/120\n",
            "50/50 [==============================] - 1s 11ms/step - loss: 0.0930 - mae: 0.2238\n",
            "Epoch 109/120\n",
            "50/50 [==============================] - 1s 11ms/step - loss: 0.0799 - mae: 0.1936\n",
            "Epoch 110/120\n",
            "50/50 [==============================] - 1s 11ms/step - loss: 0.0772 - mae: 0.1918\n",
            "Epoch 111/120\n",
            "50/50 [==============================] - 1s 11ms/step - loss: 0.0971 - mae: 0.2074\n",
            "Epoch 112/120\n",
            "50/50 [==============================] - 1s 11ms/step - loss: 0.0891 - mae: 0.2121\n",
            "Epoch 113/120\n",
            "50/50 [==============================] - 1s 11ms/step - loss: 0.0836 - mae: 0.2082\n",
            "Epoch 114/120\n",
            "50/50 [==============================] - 1s 17ms/step - loss: 0.0787 - mae: 0.1963\n",
            "Epoch 115/120\n",
            "50/50 [==============================] - 1s 17ms/step - loss: 0.0750 - mae: 0.1818\n",
            "Epoch 116/120\n",
            "50/50 [==============================] - 1s 16ms/step - loss: 0.0824 - mae: 0.2053\n",
            "Epoch 117/120\n",
            "50/50 [==============================] - 1s 17ms/step - loss: 0.0708 - mae: 0.1819\n",
            "Epoch 118/120\n",
            "50/50 [==============================] - 1s 17ms/step - loss: 0.0884 - mae: 0.2068\n",
            "Epoch 119/120\n",
            "50/50 [==============================] - 1s 11ms/step - loss: 0.0672 - mae: 0.1648\n",
            "Epoch 120/120\n",
            "50/50 [==============================] - 1s 11ms/step - loss: 0.0885 - mae: 0.2020\n"
          ]
        }
      ]
    },
    {
      "cell_type": "code",
      "source": [
        "plt.plot(nn_history.history['loss'])"
      ],
      "metadata": {
        "id": "7lkv5Ku2aTaU",
        "colab": {
          "base_uri": "https://localhost:8080/",
          "height": 447
        },
        "outputId": "319d6265-80bd-4bde-bee3-e1fcb71bc0c3"
      },
      "execution_count": 120,
      "outputs": [
        {
          "output_type": "execute_result",
          "data": {
            "text/plain": [
              "[<matplotlib.lines.Line2D at 0x7eb77d9ea3b0>]"
            ]
          },
          "metadata": {},
          "execution_count": 120
        },
        {
          "output_type": "display_data",
          "data": {
            "text/plain": [
              "<Figure size 640x480 with 1 Axes>"
            ],
            "image/png": "[encoded data removed]"
          },
          "metadata": {}
        }
      ]
    },
    {
      "cell_type": "code",
      "source": [
        "plt.plot(nn_history.history['mae'])"
      ],
      "metadata": {
        "id": "j7lSEambzsi2",
        "colab": {
          "base_uri": "https://localhost:8080/",
          "height": 447
        },
        "outputId": "ed0e4b64-656d-4c83-c05f-ca43b1956958"
      },
      "execution_count": 121,
      "outputs": [
        {
          "output_type": "execute_result",
          "data": {
            "text/plain": [
              "[<matplotlib.lines.Line2D at 0x7eb77c936d10>]"
            ]
          },
          "metadata": {},
          "execution_count": 121
        },
        {
          "output_type": "display_data",
          "data": {
            "text/plain": [
              "<Figure size 640x480 with 1 Axes>"
            ],
            "image/png": "[encoded data removed]"
          },
          "metadata": {}
        }
      ]
    },
    {
      "cell_type": "code",
      "source": [
        "nn_model.save_weights('./drive/MyDrive/Colab Notebooks/Foad/courses/Probabilistic Learning/project/models/SBNN_Weights.hdf5')\n"
      ],
      "metadata": {
        "id": "gyeaAUShz4v8"
      },
      "execution_count": null,
      "outputs": []
    },
    {
      "cell_type": "code",
      "source": [
        "nn_model = get_model(step_in, n_features)\n",
        "nn_model.load_weights('./drive/MyDrive/Colab Notebooks/Foad/courses/Probabilistic Learning/project/models/SBNN_Weights.hdf5')"
      ],
      "metadata": {
        "id": "_f1H8oY9-nd1"
      },
      "execution_count": null,
      "outputs": []
    },
    {
      "cell_type": "code",
      "source": [
        "nn_model.predict(X_train[:10])"
      ],
      "metadata": {
        "colab": {
          "base_uri": "https://localhost:8080/"
        },
        "id": "Sad0lQa_apOu",
        "outputId": "ff5b6167-9e81-48d7-a547-c83d87c936ae"
      },
      "execution_count": 101,
      "outputs": [
        {
          "output_type": "stream",
          "name": "stdout",
          "text": [
            "1/1 [==============================] - 1s 820ms/step\n"
          ]
        },
        {
          "output_type": "execute_result",
          "data": {
            "text/plain": [
              "array([[0.52527213],\n",
              "       [0.52526623],\n",
              "       [0.52526134],\n",
              "       [0.5252866 ],\n",
              "       [0.5252609 ],\n",
              "       [0.5252847 ],\n",
              "       [0.52528346],\n",
              "       [0.5252825 ],\n",
              "       [0.52528626],\n",
              "       [0.5252883 ]], dtype=float32)"
            ]
          },
          "metadata": {},
          "execution_count": 101
        }
      ]
    },
    {
      "cell_type": "code",
      "source": [
        "y_train[:10]"
      ],
      "metadata": {
        "colab": {
          "base_uri": "https://localhost:8080/"
        },
        "id": "q6owaikwQscn",
        "outputId": "d57b7b84-9186-47ef-b8f2-36aa74c574bb"
      },
      "execution_count": 102,
      "outputs": [
        {
          "output_type": "execute_result",
          "data": {
            "text/plain": [
              "array([[[0.425]],\n",
              "\n",
              "       [[0.425]],\n",
              "\n",
              "       [[0.126]],\n",
              "\n",
              "       [[0.425]],\n",
              "\n",
              "       [[0.425]],\n",
              "\n",
              "       [[0.907]],\n",
              "\n",
              "       [[0.425]],\n",
              "\n",
              "       [[0.144]],\n",
              "\n",
              "       [[0.188]],\n",
              "\n",
              "       [[0.196]]])"
            ]
          },
          "metadata": {},
          "execution_count": 102
        }
      ]
    },
    {
      "cell_type": "code",
      "source": [
        "pred_matrix = [list(nn_model.predict(X_test[:100], batch_size=1, verbose=0).flatten()) for i in range(50)]\n",
        "pred_matrix = array(pred_matrix)"
      ],
      "metadata": {
        "id": "TXea8SlXTLE_"
      },
      "execution_count": 122,
      "outputs": []
    },
    {
      "cell_type": "code",
      "source": [
        "plt.plot(y_test[:100].flatten())\n",
        "plt.plot(pred_matrix.mean(axis=0), color='r')\n",
        "plt.plot(pred_matrix.max(axis=0), color='k')\n",
        "plt.plot(pred_matrix.min(axis=0), color='k')"
      ],
      "metadata": {
        "colab": {
          "base_uri": "https://localhost:8080/",
          "height": 447
        },
        "id": "pKwPoKZ9Unw7",
        "outputId": "31de2134-c360-4905-8a9b-e01dda19647f"
      },
      "execution_count": 124,
      "outputs": [
        {
          "output_type": "execute_result",
          "data": {
            "text/plain": [
              "[<matplotlib.lines.Line2D at 0x7eb7bd8681f0>]"
            ]
          },
          "metadata": {},
          "execution_count": 124
        },
        {
          "output_type": "display_data",
          "data": {
            "text/plain": [
              "<Figure size 640x480 with 1 Axes>"
            ],
            "image/png": "[encoded data removed]"
          },
          "metadata": {}
        }
      ]
    },
    {
      "cell_type": "code",
      "source": [
        "n = 10\n",
        "plt.hist(pred_matrix[:, n], 10)\n",
        "plt.bar(y_test[n])"
      ],
      "metadata": {
        "colab": {
          "base_uri": "https://localhost:8080/",
          "height": 572
        },
        "id": "CIdGRTpeddkw",
        "outputId": "5b9accfc-0a14-4fd2-8471-a2d71ba105ed"
      },
      "execution_count": 127,
      "outputs": [
        {
          "output_type": "error",
          "ename": "TypeError",
          "evalue": "bar() missing 2 required positional arguments: 'x' and 'height'",
          "traceback": [
            "\u001b[0;31m---------------------------------------------------------------------------\u001b[0m",
            "\u001b[0;31mTypeError\u001b[0m                                 Traceback (most recent call last)",
            "\u001b[0;32m<ipython-input-127-85a2d6bd76d9>\u001b[0m in \u001b[0;36m<cell line: 2>\u001b[0;34m()\u001b[0m\n\u001b[1;32m      1\u001b[0m \u001b[0mplt\u001b[0m\u001b[0;34m.\u001b[0m\u001b[0mhist\u001b[0m\u001b[0;34m(\u001b[0m\u001b[0mpred_matrix\u001b[0m\u001b[0;34m[\u001b[0m\u001b[0;34m:\u001b[0m\u001b[0;34m,\u001b[0m \u001b[0;36m0\u001b[0m\u001b[0;34m]\u001b[0m\u001b[0;34m,\u001b[0m \u001b[0;36m10\u001b[0m\u001b[0;34m)\u001b[0m\u001b[0;34m\u001b[0m\u001b[0;34m\u001b[0m\u001b[0m\n\u001b[0;32m----> 2\u001b[0;31m \u001b[0mplt\u001b[0m\u001b[0;34m.\u001b[0m\u001b[0mbar\u001b[0m\u001b[0;34m(\u001b[0m\u001b[0;34m)\u001b[0m\u001b[0;34m\u001b[0m\u001b[0;34m\u001b[0m\u001b[0m\n\u001b[0m",
            "\u001b[0;31mTypeError\u001b[0m: bar() missing 2 required positional arguments: 'x' and 'height'"
          ]
        },
        {
          "output_type": "display_data",
          "data": {
            "text/plain": [
              "<Figure size 640x480 with 1 Axes>"
            ],
            "image/png": "[encoded data removed]"
          },
          "metadata": {}
        }
      ]
    },
    {
      "cell_type": "code",
      "source": [
        "# y_train[:100]\n",
        "\n",
        "for i in range(20):\n",
        "    plt.plot(nn_model.predict(X_test[:100], batch_size=1).flatten(), color='red')\n",
        "plt.plot(y_test[:100].flatten())"
      ],
      "metadata": {
        "id": "UBl1_CTDIPn3",
        "colab": {
          "base_uri": "https://localhost:8080/",
          "height": 795
        },
        "outputId": "a5c21bb3-0477-4775-ed76-874afe1942cf"
      },
      "execution_count": 50,
      "outputs": [
        {
          "output_type": "stream",
          "name": "stdout",
          "text": [
            "100/100 [==============================] - 1s 12ms/step\n",
            "100/100 [==============================] - 1s 5ms/step\n",
            "100/100 [==============================] - 0s 5ms/step\n",
            "100/100 [==============================] - 0s 4ms/step\n",
            "100/100 [==============================] - 0s 4ms/step\n",
            "100/100 [==============================] - 0s 4ms/step\n",
            "100/100 [==============================] - 0s 4ms/step\n",
            "100/100 [==============================] - 0s 5ms/step\n",
            "100/100 [==============================] - 1s 5ms/step\n",
            "100/100 [==============================] - 0s 4ms/step\n",
            "100/100 [==============================] - 0s 5ms/step\n",
            "100/100 [==============================] - 0s 4ms/step\n",
            "100/100 [==============================] - 0s 4ms/step\n",
            "100/100 [==============================] - 0s 4ms/step\n",
            "100/100 [==============================] - 0s 4ms/step\n",
            "100/100 [==============================] - 0s 4ms/step\n",
            "100/100 [==============================] - 0s 4ms/step\n",
            "100/100 [==============================] - 1s 7ms/step\n",
            "100/100 [==============================] - 1s 7ms/step\n",
            "100/100 [==============================] - 1s 7ms/step\n"
          ]
        },
        {
          "output_type": "execute_result",
          "data": {
            "text/plain": [
              "[<matplotlib.lines.Line2D at 0x7eb7a52a9570>]"
            ]
          },
          "metadata": {},
          "execution_count": 50
        },
        {
          "output_type": "display_data",
          "data": {
            "text/plain": [
              "<Figure size 640x480 with 1 Axes>"
            ],
            "image/png": "[encoded data removed]"
          },
          "metadata": {}
        }
      ]
    },
    {
      "cell_type": "code",
      "source": [
        "nn_model.predict(X_test[:10]).flatten()"
      ],
      "metadata": {
        "id": "LfWlcwukc4yi"
      },
      "execution_count": null,
      "outputs": []
    },
    {
      "cell_type": "code",
      "source": [
        "nn_model.predict(X_train[:100], batch_size=100).flatten()"
      ],
      "metadata": {
        "id": "TswXmBQXdhYh"
      },
      "execution_count": null,
      "outputs": []
    },
    {
      "cell_type": "code",
      "source": [],
      "metadata": {
        "id": "LAjM-PbCdoNd"
      },
      "execution_count": null,
      "outputs": []
    }
  ]
}